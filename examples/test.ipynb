{
 "cells": [
  {
   "cell_type": "code",
   "execution_count": 32,
   "id": "58da3504",
   "metadata": {},
   "outputs": [],
   "source": [
    "\"\"\"\n",
    "This example loads the tetra3 default database and solves for every image in the tetra3/test_data directory.\n",
    "\n",
    "Note: Requires PIL (pip install Pillow)\n",
    "\"\"\"\n",
    "\n",
    "import sys\n",
    "sys.path.append('..')\n",
    "from tetra3 import Tetra3\n",
    "from PIL import Image\n",
    "from pathlib import Path\n",
    "import numpy as np\n",
    "\n",
    "from astropy.time import Time\n",
    "from astropy import units\n",
    "from astropy.coordinates import SkyCoord, EarthLocation, AltAz\n",
    "\n",
    "from matplotlib import pyplot as plt\n"
   ]
  },
  {
   "cell_type": "code",
   "execution_count": 25,
   "id": "af17b8ad",
   "metadata": {},
   "outputs": [],
   "source": [
    "def norm(x: np.ndarray):\n",
    "    \"\"\"Calcualte the norm of a vector. \"\"\"\n",
    "    \n",
    "    return np.sqrt(np.sum(x**2))"
   ]
  },
  {
   "cell_type": "code",
   "execution_count": 5,
   "id": "ab9639fb",
   "metadata": {},
   "outputs": [
    {
     "name": "stderr",
     "output_type": "stream",
     "text": [
      "2022-08-08 13:33:34,153:tetra3.Tetra3-INFO: Loading database from: /Users/fischchr/Documents/code/python/tetra3/examples/../default_database.npz\n"
     ]
    },
    {
     "name": "stdout",
     "output_type": "stream",
     "text": [
      "Solving for image at: ../test_data/2019-07-29T204726_Alt60_Azi45_Try1.tiff\n"
     ]
    }
   ],
   "source": [
    "# Create instance and load default_database (built with max_fov=12 and the rest as default)\n",
    "t3 = Tetra3('default_database')\n",
    "\n",
    "# Path where images are\n",
    "path = Path('../test_data/')\n",
    "for impath in path.glob('*.tiff'):\n",
    "    print('Solving for image at: ' + str(impath))\n",
    "    with Image.open(str(impath)) as img:\n",
    "        solved = t3.solve_from_image(img)  # Adding e.g. fov_estimate=11.4, fov_max_error=.1 improves performance\n",
    "    #print('Solution: ' + str(solved))\n",
    "    break"
   ]
  },
  {
   "cell_type": "code",
   "execution_count": 11,
   "id": "aed38f9d",
   "metadata": {},
   "outputs": [],
   "source": [
    "def get_ra_dec_from_vector(v: np.ndarray) -> tuple[float]:\n",
    "    \"\"\"Get the right ascention and declination from a vector v on the celestial sphere. \"\"\"\n",
    "    \n",
    "    # Make sure v is normalized\n",
    "    v = v / norm(v)\n",
    "    \n",
    "    dec = np.arcsin(v[2])\n",
    "    ra = np.arccos(v[0] / np.cos(dec))\n",
    "    \n",
    "    return (ra, dec)\n",
    "\n",
    "def get_vector_from_ra_dec(ra: float, dec: float) -> np.ndarray:\n",
    "    \"\"\"Get a unit vector on the celestial sphere from (ra, dec) values. \"\"\"\n",
    "    \n",
    "    return np.array([\n",
    "        np.cos(ra) * np.cos(dec),\n",
    "        np.sin(ra) * np.cos(dec),\n",
    "        np.sin(dec)\n",
    "    ])\n",
    "\n",
    "test_radec = (10 * np.pi / 180, 35 * np.pi / 180)\n",
    "res = get_ra_dec_from_vector(get_vector_from_ra_dec(*test_radec)) \n",
    "assert all([abs(x - y) < 1e-12 for x, y in zip(test_radec, res)])"
   ]
  },
  {
   "cell_type": "code",
   "execution_count": 53,
   "id": "5e81770f",
   "metadata": {},
   "outputs": [],
   "source": [
    "# Define the position of the observer\n",
    "obsloc = EarthLocation(lat=40*units.degree, lon=8*units.degree, height=300*units.m)\n",
    "\n",
    "# Define the time of the observation\n",
    "obstime = Time.now()\n",
    "\n",
    "# Define the ENU frame at the position of the observer\n",
    "alt_az_frame = AltAz(obstime=obstime, location=obsloc)"
   ]
  },
  {
   "cell_type": "code",
   "execution_count": 50,
   "id": "e6b108a9",
   "metadata": {},
   "outputs": [
    {
     "name": "stdout",
     "output_type": "stream",
     "text": [
      "[ 0.76696308 -0.43888509  0.46813193]\n",
      "[ 0.72156933 -0.4652634   0.51270623]\n",
      "[ 0.70700236 -0.45140794  0.54440659]\n",
      "[ 0.77453244 -0.40425445  0.48649547]\n",
      "[ 0.724178   -0.35891819  0.58884969]\n",
      "[ 0.75346666 -0.49601458  0.43157563]\n",
      "[ 0.72933157 -0.4956521   0.47159777]\n",
      "[ 0.7879704  -0.37024274  0.49195829]\n",
      "[ 0.70169488 -0.43714198  0.56261105]\n",
      "[ 0.77593398 -0.46150027  0.43005113]\n",
      "[ 0.73959185 -0.39102109  0.54781969]\n",
      "[ 0.7487576  -0.48107635  0.45599079]\n",
      "[ 0.70817226 -0.48701589  0.51118252]\n"
     ]
    }
   ],
   "source": [
    "# Iterate over all matched stars\n",
    "for i in range(solved['Matches']):\n",
    "    # Get the image vector from the image\n",
    "    v_image = solved['matched_vectors'][i]\n",
    "    # Get the corresponding database vector\n",
    "    v_db = solved['matched_database_vectors'][i]\n",
    "    # Get the rotation matrix that transforms v_db to v_image\n",
    "    R = solved['rotation_matrix']\n",
    "    \n",
    "    # Calculate the residual error |R.v_db - v_image|\n",
    "    res = norm(R @ v_db - v_image)\n",
    "    \n",
    "    radec_image = get_ra_dec_from_vector(v_image)\n",
    "    radec_db = get_ra_dec_from_vector(v_db)\n",
    "    \n",
    "    # Get the coordinates of the star in the sky\n",
    "    coos_db = SkyCoord(ra=radec_db[0] * units.radian, dec=radec_db[1] * units.radian, frame='icrs')\n",
    "    \n",
    "    # Transform the coordinates of the star to the ENU frame of the observer\n",
    "    aa_db = coos_db.transform_to(alt_az_frame)\n",
    "    \n",
    "    # Get the vector of the star in the ENU frame of the observer\n",
    "    v_db = np.array(aa_db.cartesian.xyz)\n",
    "    \n",
    "    print(v_db)\n"
   ]
  },
  {
   "cell_type": "code",
   "execution_count": null,
   "id": "64c458b7",
   "metadata": {},
   "outputs": [],
   "source": [
    "units.radian"
   ]
  },
  {
   "cell_type": "code",
   "execution_count": 37,
   "id": "c880fec4",
   "metadata": {},
   "outputs": [],
   "source": [
    "\n",
    "# Get the coordinate frame for the observation time\n",
    "\n"
   ]
  },
  {
   "cell_type": "code",
   "execution_count": 49,
   "id": "121478b6",
   "metadata": {},
   "outputs": [
    {
     "data": {
      "text/plain": [
       "array([ 0.53097001, -0.62811743, -0.56880519])"
      ]
     },
     "execution_count": 49,
     "metadata": {},
     "output_type": "execute_result"
    }
   ],
   "source": []
  },
  {
   "cell_type": "code",
   "execution_count": 6,
   "id": "585512d7",
   "metadata": {},
   "outputs": [],
   "source": [
    "from tetra3 import get_centroids_from_image"
   ]
  },
  {
   "cell_type": "code",
   "execution_count": 28,
   "id": "eeaa7794",
   "metadata": {},
   "outputs": [],
   "source": [
    "centroids = get_centroids_from_image(img)"
   ]
  },
  {
   "cell_type": "code",
   "execution_count": 29,
   "id": "771e384a",
   "metadata": {},
   "outputs": [
    {
     "data": {
      "image/png": "[encoded data removed]",
      "text/plain": [
       "<Figure size 1080x1080 with 2 Axes>"
      ]
     },
     "metadata": {
      "needs_background": "light"
     },
     "output_type": "display_data"
    }
   ],
   "source": [
    "plt.figure(figsize=(15, 15))\n",
    "plt.subplot(1, 2, 1)\n",
    "plt.imshow(img)\n",
    "\n",
    "plt.subplot(1,2,2)\n",
    "plt.imshow(img)\n",
    "for point in centroids:\n",
    "    plt.plot(point[1], point[0], 'o')"
   ]
  },
  {
   "cell_type": "code",
   "execution_count": 21,
   "id": "49ea7f03",
   "metadata": {},
   "outputs": [
    {
     "data": {
      "text/plain": [
       "PosixPath('../test_data/2019-07-29T204726_Alt60_Azi-135_Try1.tiff')"
      ]
     },
     "execution_count": 21,
     "metadata": {},
     "output_type": "execute_result"
    }
   ],
   "source": [
    "impath"
   ]
  },
  {
   "cell_type": "code",
   "execution_count": null,
   "id": "2c8c9fa4",
   "metadata": {},
   "outputs": [],
   "source": []
  }
 ],
 "metadata": {
  "kernelspec": {
   "display_name": "Python 3 (ipykernel)",
   "language": "python",
   "name": "python3"
  },
  "language_info": {
   "codemirror_mode": {
    "name": "ipython",
    "version": 3
   },
   "file_extension": ".py",
   "mimetype": "text/x-python",
   "name": "python",
   "nbconvert_exporter": "python",
   "pygments_lexer": "ipython3",
   "version": "3.9.13"
  }
 },
 "nbformat": 4,
 "nbformat_minor": 5
}
